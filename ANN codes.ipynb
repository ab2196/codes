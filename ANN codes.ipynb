{
  "nbformat": 4,
  "nbformat_minor": 0,
  "metadata": {
    "colab": {
      "provenance": []
    },
    "kernelspec": {
      "name": "python3",
      "display_name": "Python 3"
    },
    "language_info": {
      "name": "python"
    }
  },
  "cells": [
    {
      "cell_type": "code",
      "execution_count": null,
      "metadata": {
        "colab": {
          "base_uri": "https://localhost:8080/",
          "height": 472
        },
        "id": "O1wxgJyebeyL",
        "outputId": "8e35cf74-6a0f-47fd-dd12-fe1a38ed6f07"
      },
      "outputs": [
        {
          "output_type": "display_data",
          "data": {
            "text/plain": [
              "<Figure size 640x480 with 1 Axes>"
            ],
            "image/png": "[encoded data removed]"
          },
          "metadata": {}
        }
      ],
      "source": [
        "#assi 1 Activation Function\n",
        "\n",
        "import numpy as np\n",
        "import matplotlib.pyplot as plt\n",
        "\n",
        "def sigmoid(x):\n",
        "  return 1/(1+ np.exp(-x))\n",
        "\n",
        "def relu(x):\n",
        "  return np.maximum(0,x)\n",
        "\n",
        "def tanh(x):\n",
        "  return np.tanh(x)\n",
        "\n",
        "def plot_af(function, function_name):\n",
        "  x = np.linspace(-5,5)\n",
        "  y = function(x)\n",
        "  plt.plot(x,y,label = function_name)\n",
        "\n",
        "plot_af(sigmoid, 'Sigmoid')\n",
        "plot_af(relu, 'Relu')\n",
        "plot_af(tanh, 'Tanh')\n",
        "\n",
        "plt.xlabel('x')\n",
        "plt.ylabel(\"f(x)\")\n",
        "plt.title(\"Activation Function\")\n",
        "plt.legend()\n",
        "\n",
        "plt.show()"
      ]
    },
    {
      "cell_type": "code",
      "source": [
        "#assi 2 Mc-Culloch pitts \n",
        "\n",
        "def McCulloch_pitts(input,weights,threshold):\n",
        "  activation = np.dot(input,weights)\n",
        "  output = 1 if activation >= threshold else 0\n",
        "  return output\n",
        "\n",
        "def ANDNOT(x1,x2):\n",
        "  input = [x1,x2]\n",
        "  weights = [1,-1]\n",
        "  threshold = 1\n",
        "  return McCulloch_pitts(input,weights,threshold)\n",
        "\n",
        "print(ANDNOT(0,0))\n",
        "print(ANDNOT(0,1))\n",
        "print(ANDNOT(1,0))\n",
        "print(ANDNOT(1,1))"
      ],
      "metadata": {
        "colab": {
          "base_uri": "https://localhost:8080/"
        },
        "id": "EUgkOtn6dJlv",
        "outputId": "a640b26a-bca2-4084-f58c-500d46ec3764"
      },
      "execution_count": null,
      "outputs": [
        {
          "output_type": "stream",
          "name": "stdout",
          "text": [
            "0\n",
            "0\n",
            "1\n",
            "0\n"
          ]
        }
      ]
    },
    {
      "cell_type": "code",
      "source": [
        "import numpy as np\n",
        "\n",
        "#training data\n",
        "training_inputs = np.array([\n",
        "    [0, 0, 0, 0, 0, 0, 0, 0, 0, 0], \n",
        "    [0, 0, 0, 0, 0, 0, 0, 0, 0, 1],  \n",
        "    [0, 0, 0, 0, 0, 0, 0, 0, 1, 0],  \n",
        "    [0, 0, 0, 0, 0, 0, 0, 1, 0, 0],\n",
        "    [0, 0, 0, 0, 0, 0, 1, 0, 0, 0],\n",
        "    [0, 0, 0, 0, 0, 1, 0, 0, 0, 0],\n",
        "    [0, 0, 0, 0, 1, 0, 0, 0, 0, 0],\n",
        "    [0, 0, 0, 1, 0, 0, 0, 0, 0, 0],\n",
        "    [0, 0, 1, 0, 0, 0, 0, 0, 0, 0],\n",
        "    [0, 1, 0, 0, 0, 0, 0, 0, 0, 0],\n",
        "    [1, 0, 0, 0, 0, 0, 0, 0, 0, 0]\n",
        "])\n",
        "\n",
        "labels = np.array([[0], [1], [0], [1], [0], [1], [0], [1], [0], [1], [0]]) \n",
        "\n",
        "weights = np.zeros(10)\n",
        "bias = np.random.rand()\n",
        "learning_rate = 0.1\n",
        "epochs = 100\n",
        "\n",
        "for _ in range(epochs):\n",
        "    for inputs, label in zip(training_inputs, labels):\n",
        "        prediction = 1 if np.dot(inputs, weights)+bias >= 0 else 0\n",
        "        weights += learning_rate * (label - prediction) * inputs\n",
        "\n",
        "# Testing data\n",
        "test_inputs = np.array([\n",
        "    [0, 0, 0, 0, 0, 0, 0, 0, 0, 1], \n",
        "    [0, 0, 1, 0, 0, 0, 0, 0, 0, 0],\n",
        "    [0, 0, 0, 0, 0, 1, 0, 0, 0, 0],\n",
        "    [0, 0, 0, 0, 0, 0, 1, 0, 0, 0]\n",
        "])\n",
        "\n",
        "for inputs in test_inputs:\n",
        "    prediction = 1 if np.dot(inputs, weights) >= 0 else 0\n",
        "    number = np.argmax(inputs)\n",
        "    print(f\"ASCII {number}: {'Odd' if prediction == 1 else 'Even'}\")"
      ],
      "metadata": {
        "colab": {
          "base_uri": "https://localhost:8080/"
        },
        "id": "j4H21_Evfz_V",
        "outputId": "f649d164-38bc-4a2a-f280-08767a4353f5"
      },
      "execution_count": null,
      "outputs": [
        {
          "output_type": "stream",
          "name": "stdout",
          "text": [
            "ASCII 9: Odd\n",
            "ASCII 2: Even\n",
            "ASCII 5: Odd\n",
            "ASCII 6: Even\n"
          ]
        }
      ]
    },
    {
      "cell_type": "code",
      "source": [
        "# assi 4\n",
        "\n",
        "import numpy as np\n",
        "import matplotlib.pyplot as plt\n",
        "\n",
        "# Define training data\n",
        "X_train = np.array([[2, 4], [4, 3], [5, 6], [7, 5], [9, 4], [6, 2], [8, 3]])\n",
        "y_train = np.array([1, 1, 1, 1, -1, -1, -1])\n",
        "\n",
        "# Initialize weights and bias randomly\n",
        "weights = np.random.rand(2)\n",
        "bias = np.random.rand()\n",
        "\n",
        "# Training the perceptron\n",
        "learning_rate = 0.1\n",
        "num_epochs = 100\n",
        "\n",
        "for _ in range(num_epochs):\n",
        "    for inputs, label in zip(X_train, y_train):\n",
        "        summation = np.dot(weights, inputs) + bias\n",
        "        activation = 1 if summation >= 0 else -1\n",
        "        weights += learning_rate * (label - activation) * inputs\n",
        "        bias += learning_rate * (label - activation)\n",
        "\n",
        "# Decision regions plot\n",
        "plt.figure(figsize=(8, 6))\n",
        "plt.scatter(X_train[:, 0], X_train[:, 1], c=y_train, cmap='viridis')\n",
        "\n",
        "x = np.linspace(0, 10, 100)\n",
        "y = -(weights[0] * x + bias) / weights[1]\n",
        "plt.plot(x, y, color='red', label='Decision Boundary')\n",
        "\n",
        "plt.xlabel('Feature 1')\n",
        "plt.ylabel('Feature 2')\n",
        "plt.title('Perceptron Decision Regions')\n",
        "plt.legend()\n",
        "plt.grid(True)\n",
        "plt.show()"
      ],
      "metadata": {
        "colab": {
          "base_uri": "https://localhost:8080/",
          "height": 564
        },
        "id": "Xn9SS4CUopmp",
        "outputId": "a54241c4-20a8-43bf-b5bb-0a841abd8a92"
      },
      "execution_count": null,
      "outputs": [
        {
          "output_type": "display_data",
          "data": {
            "text/plain": [
              "<Figure size 800x600 with 1 Axes>"
            ],
            "image/png": "[encoded data removed]"
          },
          "metadata": {}
        }
      ]
    },
    {
      "cell_type": "code",
      "source": [
        "#assi 5\n",
        "\n",
        "import numpy as np\n",
        "\n",
        "pattern1 = np.array([[1, 1, 1, -1, -1]])  # Pattern A\n",
        "pattern2 = np.array([[-1, -1, -1, 1, 1]])  # Pattern B\n",
        "\n",
        "pattern1_transpose = pattern1.T\n",
        "pattern2_transpose = pattern2.T\n",
        "\n",
        "weights = np.dot(pattern1_transpose, pattern2)\n",
        "\n",
        "input_pattern1 = np.array([[1, 1, 1, -1, -1]])  \n",
        "input_pattern2 = np.array([[-1, -1, -1, -1, 1]])  \n",
        "output_pattern1 = np.sign(np.dot(input_pattern1, weights))\n",
        "print(f\"Recalled Pattern 1: {output_pattern1}\")\n",
        "\n",
        "output_pattern2 = np.sign(np.dot(input_pattern2, weights.T))\n",
        "print(f\"Recalled Pattern 2: {output_pattern2}\")"
      ],
      "metadata": {
        "id": "dBgmF3Uvq6Ch",
        "colab": {
          "base_uri": "https://localhost:8080/"
        },
        "outputId": "82f44bdb-4979-42ac-a052-a74c78620d0d"
      },
      "execution_count": null,
      "outputs": [
        {
          "output_type": "stream",
          "name": "stdout",
          "text": [
            "Recalled Pattern 1: [[-1 -1 -1  1  1]]\n",
            "Recalled Pattern 2: [[ 1  1  1 -1 -1]]\n"
          ]
        }
      ]
    },
    {
      "cell_type": "code",
      "source": [
        "#assi 6.1 Forward propagation\n",
        "\n",
        "import numpy as np\n",
        "\n",
        "def sigmoid(x):\n",
        "  return 1/(1+np.exp(-x))\n",
        "\n",
        "input_size = 3\n",
        "hidden_size = 4\n",
        "output_size = 2\n",
        "\n",
        "w1 = np.random.randn(input_size,hidden_size).round()\n",
        "b1 = np.random.randn(hidden_size).round()\n",
        "w2 = np.random.randn(hidden_size,output_size).round()\n",
        "b2 = np.random.randn(output_size).round()\n",
        "\n",
        "x = np.array([[0.2,0.5,0.1]])\n",
        "\n",
        "hidden_layer = sigmoid(np.dot(x,w1) + b1).round()\n",
        "output_layer = sigmoid(np.dot(hidden_layer, w2) + b2).round()\n",
        "\n",
        "print(\"weight 1 : \",w1)\n",
        "print(\"weight 2 : \",w2)\n",
        "print(\"bias 1 : \",b1)\n",
        "print(\"bias 2 : \",b2)\n",
        "print(output_layer)\n"
      ],
      "metadata": {
        "colab": {
          "base_uri": "https://localhost:8080/"
        },
        "id": "RTP-ylJ1g7u0",
        "outputId": "7e6fd7d1-2a47-4212-b772-85d2379f38a3"
      },
      "execution_count": null,
      "outputs": [
        {
          "output_type": "stream",
          "name": "stdout",
          "text": [
            "weight 1 :  [[-1.  2. -1.  0.]\n",
            " [ 1. -1.  1.  0.]\n",
            " [ 1. -0.  2.  0.]]\n",
            "weight 2 :  [[-0.  0.]\n",
            " [ 1. -0.]\n",
            " [-1. -1.]\n",
            " [-1.  1.]]\n",
            "bias 1 :  [ 1. -1. -1.  1.]\n",
            "bias 2 :  [-0. -2.]\n",
            "[[0. 0.]]\n"
          ]
        }
      ]
    },
    {
      "cell_type": "code",
      "source": [
        "# assi 6.2 back propagation\n",
        "\n",
        "from numpy import *\n",
        "\n",
        "class NeuralNet(object):\n",
        "\n",
        "  def __init__(self):\n",
        "    random.seed(1)\n",
        "    self.synaptic_weights = 2 * random.random((3,1)) - 1\n",
        "\n",
        "  def __sigmoid(self,x):\n",
        "    return 1/(1 + exp(-x))\n",
        "\n",
        "  def __sigmoid_derivative(self,x):\n",
        "    return x * (1-x)\n",
        "\n",
        "  def train(self,inputs,outputs, training_iteration):\n",
        "\n",
        "    for iteration in range(training_iteration):\n",
        "      output = self.learn(inputs)\n",
        "      error = outputs - output\n",
        "      factor = dot(inputs.T, error * self.__sigmoid_derivative(output))\n",
        "      self.synaptic_weights += factor\n",
        "\n",
        "  def learn(self, inputs):\n",
        "    return self.__sigmoid(dot(inputs, self.synaptic_weights))\n",
        "\n",
        "if __name__ == \"__main__\":\n",
        "  \n",
        "  neural = NeuralNet()\n",
        "  inputs = array([[0,1,1],[1,0,0],[1,0,1]])\n",
        "  outputs = array([[1],[0],[1]])\n",
        "\n",
        "  neural.train(inputs,outputs,10000)\n",
        "  print(neural.learn(array([1,0,1])))"
      ],
      "metadata": {
        "id": "jTpZfd0Bjuqu",
        "colab": {
          "base_uri": "https://localhost:8080/"
        },
        "outputId": "6b51efde-c3ef-4de0-9322-e3a9aca36aab"
      },
      "execution_count": null,
      "outputs": [
        {
          "output_type": "stream",
          "name": "stdout",
          "text": [
            "[0.9897704]\n"
          ]
        }
      ]
    },
    {
      "cell_type": "code",
      "source": [
        "#assi 7 & 8\n",
        "\n",
        "import numpy as np\n",
        "import pandas as pd\n",
        "\n",
        "def sigmoid(x):\n",
        "  return 1 / (1 + np.exp(-x))\n",
        "\n",
        "def sigmoid_derivative(x):\n",
        "    return x * (1 - x)\n",
        "\n",
        "class NeuralNetwork:\n",
        "    def __init__(self, inputs, hidden, outputs):\n",
        "        self.weights_ih = np.random.rand(inputs, hidden)\n",
        "        self.weights_ho = np.random.rand(hidden, outputs)\n",
        "        \n",
        "    def back_propagation(self, inputs):\n",
        "\n",
        "        hidden_inputs = np.dot(inputs, self.weights_ih)\n",
        "        hidden_outputs = sigmoid(hidden_inputs)\n",
        "        output_inputs = np.dot(hidden_outputs, self.weights_ho)\n",
        "        output_outputs = sigmoid(output_inputs)\n",
        "        return output_outputs\n",
        "    \n",
        "    def train(self, inputs, targets, learning_rate):\n",
        "        hidden_inputs = np.dot(inputs, self.weights_ih)\n",
        "        hidden_outputs = sigmoid(hidden_inputs)\n",
        "        output_inputs = np.dot(hidden_outputs, self.weights_ho)\n",
        "        output_outputs = sigmoid(output_inputs)\n",
        "        output_error = targets - output_outputs\n",
        "        \n",
        "        output_derivative = sigmoid_derivative(output_outputs)\n",
        "        \n",
        "        hidden_error = np.dot(output_error, self.weights_ho.T)\n",
        "        hidden_derivative = sigmoid_derivative(hidden_outputs)\n",
        "        self.weights_ho += learning_rate * np.dot(hidden_outputs.T, output_error * output_derivative)    \n",
        "        self.weights_ih += learning_rate * np.dot(inputs.T, hidden_error * hidden_derivative)\n",
        "\n",
        "nn = NeuralNetwork(2, 4, 1)\n",
        "inputs = np.array([[0, 0], [0, 1], [1, 0], [1, 1]])\n",
        "targets = np.array([[0], [1], [1], [0]])\n",
        "for i in range(10000):\n",
        "  nn.train(inputs, targets, 0.1)\n",
        "\n",
        "print(nn.back_propagation(np.array([0, 0])).round()) \n",
        "print(nn.back_propagation(np.array([0, 1])).round())   \n",
        "print(nn.back_propagation(np.array([1, 0])).round())   \n",
        "print(nn.back_propagation(np.array([1, 1])).round()) "
      ],
      "metadata": {
        "colab": {
          "base_uri": "https://localhost:8080/"
        },
        "id": "xj_24jI7t9Nm",
        "outputId": "c1156027-25bf-4f5e-dbe1-5165b71368e0"
      },
      "execution_count": null,
      "outputs": [
        {
          "output_type": "stream",
          "name": "stdout",
          "text": [
            "[0.]\n",
            "[1.]\n",
            "[1.]\n",
            "[0.]\n"
          ]
        }
      ]
    },
    {
      "cell_type": "code",
      "source": [
        "# assi 11 \n",
        "import pandas as pd\n",
        "import tensorflow as tf\n",
        "from sklearn.datasets import load_breast_cancer\n",
        "from sklearn.model_selection import train_test_split\n",
        "\n",
        "data = load_breast_cancer()\n",
        "\n",
        "x_train,x_val_test,y_train,y_val_test = train_test_split(data.data,data.target, test_size = 0.2, random_state =42)\n",
        "\n",
        "x_val,x_test,y_val,y_test = train_test_split(x_val_test, y_val_test, test_size = 0.5, random_state = 42)\n",
        "\n",
        "model = tf.keras.Sequential([(\n",
        "    tf.keras.layers.Dense(1,input_shape=(30,), activation = 'sigmoid')\n",
        ")])\n",
        "\n",
        "loss_fn = tf.keras.losses.BinaryCrossentropy()\n",
        "optimizer = tf.keras.optimizers.SGD(learning_rate = 0.01)\n",
        "\n",
        "model.compile(optimizer=optimizer,loss = loss_fn, metrics = ['accuracy'])\n",
        "model.fit(x_train,y_train, validation_data=(x_val,y_val),epochs=100)\n",
        "y_predict = model.predict(x_test)\n",
        "y_test = y_test.T\n",
        "print(y_predict[8])\n",
        "print(y_test[8])\n",
        "metrics = model.evaluate(x_test,y_test)\n",
        "print('test accuracy : ', metrics)"
      ],
      "metadata": {
        "colab": {
          "base_uri": "https://localhost:8080/"
        },
        "id": "j9OrRoI0wVPq",
        "outputId": "68e40b80-5bd8-4852-e8a5-f5aca8d1f2d2"
      },
      "execution_count": null,
      "outputs": [
        {
          "output_type": "stream",
          "name": "stdout",
          "text": [
            "Epoch 1/100\n",
            "15/15 [==============================] - 1s 15ms/step - loss: 1193.3038 - accuracy: 0.5341 - val_loss: 460.9738 - val_accuracy: 0.4737\n",
            "Epoch 2/100\n",
            "15/15 [==============================] - 0s 5ms/step - loss: 992.5587 - accuracy: 0.5341 - val_loss: 2371.2961 - val_accuracy: 0.4737\n",
            "Epoch 3/100\n",
            "15/15 [==============================] - 0s 5ms/step - loss: 1236.1342 - accuracy: 0.5011 - val_loss: 42.5005 - val_accuracy: 0.8772\n",
            "Epoch 4/100\n",
            "15/15 [==============================] - 0s 4ms/step - loss: 927.3889 - accuracy: 0.5714 - val_loss: 480.9372 - val_accuracy: 0.4737\n",
            "Epoch 5/100\n",
            "15/15 [==============================] - 0s 5ms/step - loss: 1024.6656 - accuracy: 0.5077 - val_loss: 2673.4165 - val_accuracy: 0.4737\n",
            "Epoch 6/100\n",
            "15/15 [==============================] - 0s 5ms/step - loss: 1097.5356 - accuracy: 0.5429 - val_loss: 66.2363 - val_accuracy: 0.8947\n",
            "Epoch 7/100\n",
            "15/15 [==============================] - 0s 6ms/step - loss: 388.7883 - accuracy: 0.7341 - val_loss: 78.8760 - val_accuracy: 0.8772\n",
            "Epoch 8/100\n",
            "15/15 [==============================] - 0s 5ms/step - loss: 690.5049 - accuracy: 0.5604 - val_loss: 472.8983 - val_accuracy: 0.6491\n",
            "Epoch 9/100\n",
            "15/15 [==============================] - 0s 5ms/step - loss: 336.2974 - accuracy: 0.7187 - val_loss: 933.6414 - val_accuracy: 0.4737\n",
            "Epoch 10/100\n",
            "15/15 [==============================] - 0s 4ms/step - loss: 760.8552 - accuracy: 0.5670 - val_loss: 1417.3497 - val_accuracy: 0.5614\n",
            "Epoch 11/100\n",
            "15/15 [==============================] - 0s 4ms/step - loss: 226.5928 - accuracy: 0.8132 - val_loss: 334.8610 - val_accuracy: 0.7544\n",
            "Epoch 12/100\n",
            "15/15 [==============================] - 0s 4ms/step - loss: 244.9990 - accuracy: 0.7407 - val_loss: 436.4406 - val_accuracy: 0.7193\n",
            "Epoch 13/100\n",
            "15/15 [==============================] - 0s 4ms/step - loss: 223.8383 - accuracy: 0.7692 - val_loss: 23.6172 - val_accuracy: 0.9123\n",
            "Epoch 14/100\n",
            "15/15 [==============================] - 0s 4ms/step - loss: 181.9453 - accuracy: 0.8132 - val_loss: 323.1797 - val_accuracy: 0.5614\n",
            "Epoch 15/100\n",
            "15/15 [==============================] - 0s 4ms/step - loss: 332.7939 - accuracy: 0.7209 - val_loss: 100.9062 - val_accuracy: 0.8947\n",
            "Epoch 16/100\n",
            "15/15 [==============================] - 0s 5ms/step - loss: 264.0999 - accuracy: 0.7495 - val_loss: 323.2774 - val_accuracy: 0.5614\n",
            "Epoch 17/100\n",
            "15/15 [==============================] - 0s 5ms/step - loss: 349.2015 - accuracy: 0.7363 - val_loss: 1126.7449 - val_accuracy: 0.4737\n",
            "Epoch 18/100\n",
            "15/15 [==============================] - 0s 4ms/step - loss: 305.8307 - accuracy: 0.7538 - val_loss: 13.7202 - val_accuracy: 0.9123\n",
            "Epoch 19/100\n",
            "15/15 [==============================] - 0s 5ms/step - loss: 253.2931 - accuracy: 0.7560 - val_loss: 745.0168 - val_accuracy: 0.4737\n",
            "Epoch 20/100\n",
            "15/15 [==============================] - 0s 4ms/step - loss: 204.1420 - accuracy: 0.7780 - val_loss: 328.6610 - val_accuracy: 0.7895\n",
            "Epoch 21/100\n",
            "15/15 [==============================] - 0s 4ms/step - loss: 364.4461 - accuracy: 0.7143 - val_loss: 14.2206 - val_accuracy: 0.9474\n",
            "Epoch 22/100\n",
            "15/15 [==============================] - 0s 5ms/step - loss: 247.0153 - accuracy: 0.7692 - val_loss: 50.0687 - val_accuracy: 0.8421\n",
            "Epoch 23/100\n",
            "15/15 [==============================] - 0s 4ms/step - loss: 141.3028 - accuracy: 0.8154 - val_loss: 1129.6427 - val_accuracy: 0.4737\n",
            "Epoch 24/100\n",
            "15/15 [==============================] - 0s 4ms/step - loss: 229.3803 - accuracy: 0.8088 - val_loss: 27.3274 - val_accuracy: 0.9123\n",
            "Epoch 25/100\n",
            "15/15 [==============================] - 0s 4ms/step - loss: 188.3607 - accuracy: 0.7934 - val_loss: 153.4677 - val_accuracy: 0.8596\n",
            "Epoch 26/100\n",
            "15/15 [==============================] - 0s 4ms/step - loss: 135.8613 - accuracy: 0.8308 - val_loss: 102.5514 - val_accuracy: 0.8947\n",
            "Epoch 27/100\n",
            "15/15 [==============================] - 0s 5ms/step - loss: 182.2313 - accuracy: 0.8242 - val_loss: 59.0007 - val_accuracy: 0.9298\n",
            "Epoch 28/100\n",
            "15/15 [==============================] - 0s 4ms/step - loss: 106.7059 - accuracy: 0.8527 - val_loss: 65.6539 - val_accuracy: 0.9298\n",
            "Epoch 29/100\n",
            "15/15 [==============================] - 0s 4ms/step - loss: 161.3212 - accuracy: 0.7824 - val_loss: 242.6762 - val_accuracy: 0.6316\n",
            "Epoch 30/100\n",
            "15/15 [==============================] - 0s 4ms/step - loss: 180.4923 - accuracy: 0.7912 - val_loss: 248.1193 - val_accuracy: 0.6316\n",
            "Epoch 31/100\n",
            "15/15 [==============================] - 0s 4ms/step - loss: 150.9586 - accuracy: 0.8198 - val_loss: 25.1683 - val_accuracy: 0.9298\n",
            "Epoch 32/100\n",
            "15/15 [==============================] - 0s 5ms/step - loss: 129.9249 - accuracy: 0.8484 - val_loss: 396.6899 - val_accuracy: 0.7193\n",
            "Epoch 33/100\n",
            "15/15 [==============================] - 0s 4ms/step - loss: 235.8130 - accuracy: 0.7912 - val_loss: 39.8207 - val_accuracy: 0.8947\n",
            "Epoch 34/100\n",
            "15/15 [==============================] - 0s 4ms/step - loss: 296.5689 - accuracy: 0.7451 - val_loss: 86.2028 - val_accuracy: 0.8947\n",
            "Epoch 35/100\n",
            "15/15 [==============================] - 0s 5ms/step - loss: 96.2690 - accuracy: 0.8593 - val_loss: 74.5668 - val_accuracy: 0.9123\n",
            "Epoch 36/100\n",
            "15/15 [==============================] - 0s 4ms/step - loss: 182.1454 - accuracy: 0.8132 - val_loss: 183.3461 - val_accuracy: 0.8596\n",
            "Epoch 37/100\n",
            "15/15 [==============================] - 0s 5ms/step - loss: 210.2966 - accuracy: 0.8110 - val_loss: 1759.2971 - val_accuracy: 0.4737\n",
            "Epoch 38/100\n",
            "15/15 [==============================] - 0s 5ms/step - loss: 261.8862 - accuracy: 0.8286 - val_loss: 44.3201 - val_accuracy: 0.8596\n",
            "Epoch 39/100\n",
            "15/15 [==============================] - 0s 4ms/step - loss: 210.9510 - accuracy: 0.8088 - val_loss: 30.0115 - val_accuracy: 0.9123\n",
            "Epoch 40/100\n",
            "15/15 [==============================] - 0s 4ms/step - loss: 138.7104 - accuracy: 0.8484 - val_loss: 12.8483 - val_accuracy: 0.9123\n",
            "Epoch 41/100\n",
            "15/15 [==============================] - 0s 4ms/step - loss: 133.8436 - accuracy: 0.8352 - val_loss: 10.5419 - val_accuracy: 0.9298\n",
            "Epoch 42/100\n",
            "15/15 [==============================] - 0s 5ms/step - loss: 75.0963 - accuracy: 0.8659 - val_loss: 287.9852 - val_accuracy: 0.8246\n",
            "Epoch 43/100\n",
            "15/15 [==============================] - 0s 4ms/step - loss: 210.8022 - accuracy: 0.8220 - val_loss: 17.6325 - val_accuracy: 0.9649\n",
            "Epoch 44/100\n",
            "15/15 [==============================] - 0s 5ms/step - loss: 182.6573 - accuracy: 0.8066 - val_loss: 40.1087 - val_accuracy: 0.9298\n",
            "Epoch 45/100\n",
            "15/15 [==============================] - 0s 4ms/step - loss: 66.9148 - accuracy: 0.9011 - val_loss: 65.4930 - val_accuracy: 0.9123\n",
            "Epoch 46/100\n",
            "15/15 [==============================] - 0s 4ms/step - loss: 150.1803 - accuracy: 0.8418 - val_loss: 234.6015 - val_accuracy: 0.8421\n",
            "Epoch 47/100\n",
            "15/15 [==============================] - 0s 5ms/step - loss: 80.4862 - accuracy: 0.8945 - val_loss: 41.7543 - val_accuracy: 0.8596\n",
            "Epoch 48/100\n",
            "15/15 [==============================] - 0s 4ms/step - loss: 70.1596 - accuracy: 0.8791 - val_loss: 9.4788 - val_accuracy: 0.9123\n",
            "Epoch 49/100\n",
            "15/15 [==============================] - 0s 4ms/step - loss: 284.9691 - accuracy: 0.7516 - val_loss: 458.1078 - val_accuracy: 0.5263\n",
            "Epoch 50/100\n",
            "15/15 [==============================] - 0s 4ms/step - loss: 365.2490 - accuracy: 0.6967 - val_loss: 104.8445 - val_accuracy: 0.7544\n",
            "Epoch 51/100\n",
            "15/15 [==============================] - 0s 4ms/step - loss: 121.3560 - accuracy: 0.8593 - val_loss: 60.5473 - val_accuracy: 0.9298\n",
            "Epoch 52/100\n",
            "15/15 [==============================] - 0s 4ms/step - loss: 70.3312 - accuracy: 0.8901 - val_loss: 311.8127 - val_accuracy: 0.8246\n",
            "Epoch 53/100\n",
            "15/15 [==============================] - 0s 5ms/step - loss: 106.7323 - accuracy: 0.8791 - val_loss: 16.7903 - val_accuracy: 0.9298\n",
            "Epoch 54/100\n",
            "15/15 [==============================] - 0s 5ms/step - loss: 63.6638 - accuracy: 0.8901 - val_loss: 101.4562 - val_accuracy: 0.7544\n",
            "Epoch 55/100\n",
            "15/15 [==============================] - 0s 5ms/step - loss: 110.6310 - accuracy: 0.8593 - val_loss: 44.6534 - val_accuracy: 0.8596\n",
            "Epoch 56/100\n",
            "15/15 [==============================] - 0s 4ms/step - loss: 91.8798 - accuracy: 0.8593 - val_loss: 12.1249 - val_accuracy: 0.9649\n",
            "Epoch 57/100\n",
            "15/15 [==============================] - 0s 4ms/step - loss: 104.7261 - accuracy: 0.8725 - val_loss: 25.5074 - val_accuracy: 0.9649\n",
            "Epoch 58/100\n",
            "15/15 [==============================] - 0s 4ms/step - loss: 92.0458 - accuracy: 0.8659 - val_loss: 1723.8268 - val_accuracy: 0.5439\n",
            "Epoch 59/100\n",
            "15/15 [==============================] - 0s 4ms/step - loss: 173.4213 - accuracy: 0.8593 - val_loss: 8.8170 - val_accuracy: 0.9298\n",
            "Epoch 60/100\n",
            "15/15 [==============================] - 0s 4ms/step - loss: 87.3430 - accuracy: 0.8835 - val_loss: 10.2490 - val_accuracy: 0.9474\n",
            "Epoch 61/100\n",
            "15/15 [==============================] - 0s 4ms/step - loss: 96.7415 - accuracy: 0.8659 - val_loss: 72.6778 - val_accuracy: 0.8246\n",
            "Epoch 62/100\n",
            "15/15 [==============================] - 0s 5ms/step - loss: 189.4167 - accuracy: 0.8154 - val_loss: 330.1404 - val_accuracy: 0.6316\n",
            "Epoch 63/100\n",
            "15/15 [==============================] - 0s 5ms/step - loss: 128.4325 - accuracy: 0.8549 - val_loss: 37.0962 - val_accuracy: 0.9298\n",
            "Epoch 64/100\n",
            "15/15 [==============================] - 0s 4ms/step - loss: 96.0236 - accuracy: 0.8637 - val_loss: 220.0857 - val_accuracy: 0.8421\n",
            "Epoch 65/100\n",
            "15/15 [==============================] - 0s 4ms/step - loss: 83.0663 - accuracy: 0.8857 - val_loss: 8.7757 - val_accuracy: 0.9298\n",
            "Epoch 66/100\n",
            "15/15 [==============================] - 0s 4ms/step - loss: 77.0943 - accuracy: 0.8813 - val_loss: 1081.6887 - val_accuracy: 0.5614\n",
            "Epoch 67/100\n",
            "15/15 [==============================] - 0s 4ms/step - loss: 128.4559 - accuracy: 0.8901 - val_loss: 54.3549 - val_accuracy: 0.8596\n",
            "Epoch 68/100\n",
            "15/15 [==============================] - 0s 4ms/step - loss: 74.0434 - accuracy: 0.8813 - val_loss: 9.3288 - val_accuracy: 0.9123\n",
            "Epoch 69/100\n",
            "15/15 [==============================] - 0s 5ms/step - loss: 61.2253 - accuracy: 0.8791 - val_loss: 90.4422 - val_accuracy: 0.8772\n",
            "Epoch 70/100\n",
            "15/15 [==============================] - 0s 4ms/step - loss: 61.2666 - accuracy: 0.8879 - val_loss: 74.6069 - val_accuracy: 0.8772\n",
            "Epoch 71/100\n",
            "15/15 [==============================] - 0s 5ms/step - loss: 87.7521 - accuracy: 0.8725 - val_loss: 13.8732 - val_accuracy: 0.9474\n",
            "Epoch 72/100\n",
            "15/15 [==============================] - 0s 5ms/step - loss: 181.1836 - accuracy: 0.7846 - val_loss: 281.5030 - val_accuracy: 0.8246\n",
            "Epoch 73/100\n",
            "15/15 [==============================] - 0s 4ms/step - loss: 111.2719 - accuracy: 0.8549 - val_loss: 28.5434 - val_accuracy: 0.9474\n",
            "Epoch 74/100\n",
            "15/15 [==============================] - 0s 5ms/step - loss: 97.1986 - accuracy: 0.8637 - val_loss: 131.2174 - val_accuracy: 0.8772\n",
            "Epoch 75/100\n",
            "15/15 [==============================] - 0s 5ms/step - loss: 224.0764 - accuracy: 0.7912 - val_loss: 41.0944 - val_accuracy: 0.9298\n",
            "Epoch 76/100\n",
            "15/15 [==============================] - 0s 5ms/step - loss: 53.8716 - accuracy: 0.9011 - val_loss: 142.4343 - val_accuracy: 0.8772\n",
            "Epoch 77/100\n",
            "15/15 [==============================] - 0s 5ms/step - loss: 98.0055 - accuracy: 0.8681 - val_loss: 104.5361 - val_accuracy: 0.7719\n",
            "Epoch 78/100\n",
            "15/15 [==============================] - 0s 6ms/step - loss: 243.6700 - accuracy: 0.7824 - val_loss: 18.6554 - val_accuracy: 0.9474\n",
            "Epoch 79/100\n",
            "15/15 [==============================] - 0s 4ms/step - loss: 115.3392 - accuracy: 0.8505 - val_loss: 293.1071 - val_accuracy: 0.8246\n",
            "Epoch 80/100\n",
            "15/15 [==============================] - 0s 4ms/step - loss: 91.3462 - accuracy: 0.8813 - val_loss: 45.0323 - val_accuracy: 0.9298\n",
            "Epoch 81/100\n",
            "15/15 [==============================] - 0s 4ms/step - loss: 87.8505 - accuracy: 0.8681 - val_loss: 684.8193 - val_accuracy: 0.5088\n",
            "Epoch 82/100\n",
            "15/15 [==============================] - 0s 5ms/step - loss: 119.7321 - accuracy: 0.8549 - val_loss: 22.8136 - val_accuracy: 0.9649\n",
            "Epoch 83/100\n",
            "15/15 [==============================] - 0s 5ms/step - loss: 81.4103 - accuracy: 0.8527 - val_loss: 22.6167 - val_accuracy: 0.9649\n",
            "Epoch 84/100\n",
            "15/15 [==============================] - 0s 4ms/step - loss: 123.7336 - accuracy: 0.8681 - val_loss: 73.6757 - val_accuracy: 0.8772\n",
            "Epoch 85/100\n",
            "15/15 [==============================] - 0s 4ms/step - loss: 60.1498 - accuracy: 0.9033 - val_loss: 29.5961 - val_accuracy: 0.9649\n",
            "Epoch 86/100\n",
            "15/15 [==============================] - 0s 5ms/step - loss: 51.0008 - accuracy: 0.8967 - val_loss: 77.9142 - val_accuracy: 0.8246\n",
            "Epoch 87/100\n",
            "15/15 [==============================] - 0s 24ms/step - loss: 81.4970 - accuracy: 0.8659 - val_loss: 115.2616 - val_accuracy: 0.7544\n",
            "Epoch 88/100\n",
            "15/15 [==============================] - 0s 18ms/step - loss: 97.3822 - accuracy: 0.8440 - val_loss: 269.9347 - val_accuracy: 0.6316\n",
            "Epoch 89/100\n",
            "15/15 [==============================] - 0s 17ms/step - loss: 108.9177 - accuracy: 0.8593 - val_loss: 9.0166 - val_accuracy: 0.9649\n",
            "Epoch 90/100\n",
            "15/15 [==============================] - 0s 22ms/step - loss: 101.6078 - accuracy: 0.8725 - val_loss: 52.1370 - val_accuracy: 0.8947\n",
            "Epoch 91/100\n",
            "15/15 [==============================] - 0s 7ms/step - loss: 93.6557 - accuracy: 0.8659 - val_loss: 84.4990 - val_accuracy: 0.8772\n",
            "Epoch 92/100\n",
            "15/15 [==============================] - 0s 17ms/step - loss: 82.3665 - accuracy: 0.8813 - val_loss: 81.1141 - val_accuracy: 0.8246\n",
            "Epoch 93/100\n",
            "15/15 [==============================] - 0s 6ms/step - loss: 180.5675 - accuracy: 0.8022 - val_loss: 47.9854 - val_accuracy: 0.8596\n",
            "Epoch 94/100\n",
            "15/15 [==============================] - 0s 5ms/step - loss: 128.5192 - accuracy: 0.8198 - val_loss: 8.8293 - val_accuracy: 0.9298\n",
            "Epoch 95/100\n",
            "15/15 [==============================] - 0s 5ms/step - loss: 54.2790 - accuracy: 0.8923 - val_loss: 39.0891 - val_accuracy: 0.9123\n",
            "Epoch 96/100\n",
            "15/15 [==============================] - 0s 5ms/step - loss: 67.9949 - accuracy: 0.8835 - val_loss: 47.9316 - val_accuracy: 0.8947\n",
            "Epoch 97/100\n",
            "15/15 [==============================] - 0s 5ms/step - loss: 97.8201 - accuracy: 0.8835 - val_loss: 15.6049 - val_accuracy: 0.9649\n",
            "Epoch 98/100\n",
            "15/15 [==============================] - 0s 4ms/step - loss: 138.5590 - accuracy: 0.8330 - val_loss: 318.7463 - val_accuracy: 0.6316\n",
            "Epoch 99/100\n",
            "15/15 [==============================] - 0s 4ms/step - loss: 127.9694 - accuracy: 0.8527 - val_loss: 9.0201 - val_accuracy: 0.9474\n",
            "Epoch 100/100\n",
            "15/15 [==============================] - 0s 5ms/step - loss: 108.8465 - accuracy: 0.8505 - val_loss: 26.3251 - val_accuracy: 0.9649\n",
            "2/2 [==============================] - 0s 8ms/step\n",
            "[1.]\n",
            "1\n",
            "2/2 [==============================] - 0s 10ms/step - loss: 55.5898 - accuracy: 0.8596\n",
            "test accuracy :  [55.58979415893555, 0.859649121761322]\n"
          ]
        }
      ]
    },
    {
      "cell_type": "code",
      "source": [
        "#assi 10,12,13\n",
        "\n",
        "import tensorflow as tf\n",
        "from tensorflow.keras import layers, models\n",
        "import matplotlib.pyplot as plt\n",
        "\n",
        "model = models.Sequential()\n",
        "\n",
        "model.add(layers.Conv2D(32, (3, 3), activation='relu', input_shape=(32, 32, 3)))\n",
        "model.add(layers.MaxPooling2D((2, 2)))\n",
        "model.add(layers.Conv2D(64, (3, 3), activation='relu'))\n",
        "model.add(layers.MaxPooling2D((2, 2)))\n",
        "model.add(layers.Conv2D(64, (3, 3), activation='relu'))\n",
        "\n",
        "model.add(layers.Flatten())\n",
        "model.add(layers.Dense(64, activation='relu'))\n",
        "model.add(layers.Dense(10))\n",
        "\n",
        "\n",
        "model.compile(optimizer='adam',\n",
        "              loss=tf.keras.losses.SparseCategoricalCrossentropy(from_logits=True),\n",
        "              metrics=['accuracy'])\n",
        "\n",
        "(X_train, y_train), (X_test, y_test) = tf.keras.datasets.cifar10.load_data()\n",
        "X_train, X_test = X_train / 255.0, X_test / 255.0\n",
        "\n",
        "print(np.unique(y_train))\n",
        "\n",
        "model.fit(X_train, y_train, epochs=2, validation_data=(X_test, y_test))\n",
        "\n",
        "y_pred = model.predict(X_test)\n",
        "y_pred_cat = np.argmax(y_pred, axis=1)\n",
        "\n",
        "plt.imshow(X_test[185])\n",
        "\n",
        "\"\"\" ['airplane':0, \n",
        "     'automobile':1,\n",
        "     'bird':2,\n",
        "     'cat':3,\n",
        "     'deer':4,\n",
        "     'dog':5,\n",
        "     'frog':6,\n",
        "     'horse':7,\n",
        "     'ship':8,\n",
        "     'truck':9]\"\"\"\n",
        "     \n",
        "print(y_pred_cat[185])\n",
        "\n",
        "test_loss, test_acc = model.evaluate(X_test, y_test, verbose=2)\n",
        "print('Test accuracy:', test_acc)"
      ],
      "metadata": {
        "colab": {
          "base_uri": "https://localhost:8080/",
          "height": 614
        },
        "id": "8cy_utPQ6ug-",
        "outputId": "69d9be05-2d0e-4441-a55b-cba4f7573f06"
      },
      "execution_count": null,
      "outputs": [
        {
          "output_type": "stream",
          "name": "stdout",
          "text": [
            "[0 1 2 3 4 5 6 7 8 9]\n",
            "Epoch 1/2\n",
            "1563/1563 [==============================] - 82s 52ms/step - loss: 1.5295 - accuracy: 0.4420 - val_loss: 1.3172 - val_accuracy: 0.5209\n",
            "Epoch 2/2\n",
            "1563/1563 [==============================] - 78s 50ms/step - loss: 1.1931 - accuracy: 0.5754 - val_loss: 1.0912 - val_accuracy: 0.6173\n",
            "313/313 [==============================] - 5s 15ms/step\n",
            "8\n",
            "313/313 - 4s - loss: 1.0912 - accuracy: 0.6173 - 4s/epoch - 13ms/step\n",
            "Test accuracy: 0.6172999739646912\n"
          ]
        },
        {
          "output_type": "display_data",
          "data": {
            "text/plain": [
              "<Figure size 640x480 with 1 Axes>"
            ],
            "image/png": "[encoded data removed]"
          },
          "metadata": {}
        }
      ]
    }
  ]
}